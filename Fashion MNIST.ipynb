{
 "cells": [
  {
   "cell_type": "code",
   "execution_count": 30,
   "metadata": {},
   "outputs": [],
   "source": [
    "%config IPCompleter.greedy = True"
   ]
  },
  {
   "cell_type": "code",
   "execution_count": 31,
   "metadata": {},
   "outputs": [],
   "source": [
    "import pandas as pd\n",
    "import numpy as np\n",
    "from tensorflow import keras"
   ]
  },
  {
   "cell_type": "code",
   "execution_count": 32,
   "metadata": {},
   "outputs": [
    {
     "data": {
      "text/plain": [
       "(60000, 785)"
      ]
     },
     "execution_count": 32,
     "metadata": {},
     "output_type": "execute_result"
    }
   ],
   "source": [
    "train_df = pd.read_csv('FashionMNIST/train.csv')\n",
    "train_df.shape"
   ]
  },
  {
   "cell_type": "code",
   "execution_count": 33,
   "metadata": {},
   "outputs": [
    {
     "data": {
      "text/html": [
       "<div>\n",
       "<style scoped>\n",
       "    .dataframe tbody tr th:only-of-type {\n",
       "        vertical-align: middle;\n",
       "    }\n",
       "\n",
       "    .dataframe tbody tr th {\n",
       "        vertical-align: top;\n",
       "    }\n",
       "\n",
       "    .dataframe thead th {\n",
       "        text-align: right;\n",
       "    }\n",
       "</style>\n",
       "<table border=\"1\" class=\"dataframe\">\n",
       "  <thead>\n",
       "    <tr style=\"text-align: right;\">\n",
       "      <th></th>\n",
       "      <th>label</th>\n",
       "      <th>pixel1</th>\n",
       "      <th>pixel2</th>\n",
       "      <th>pixel3</th>\n",
       "      <th>pixel4</th>\n",
       "      <th>pixel5</th>\n",
       "      <th>pixel6</th>\n",
       "      <th>pixel7</th>\n",
       "      <th>pixel8</th>\n",
       "      <th>pixel9</th>\n",
       "      <th>...</th>\n",
       "      <th>pixel775</th>\n",
       "      <th>pixel776</th>\n",
       "      <th>pixel777</th>\n",
       "      <th>pixel778</th>\n",
       "      <th>pixel779</th>\n",
       "      <th>pixel780</th>\n",
       "      <th>pixel781</th>\n",
       "      <th>pixel782</th>\n",
       "      <th>pixel783</th>\n",
       "      <th>pixel784</th>\n",
       "    </tr>\n",
       "  </thead>\n",
       "  <tbody>\n",
       "    <tr>\n",
       "      <td>0</td>\n",
       "      <td>2</td>\n",
       "      <td>0</td>\n",
       "      <td>0</td>\n",
       "      <td>0</td>\n",
       "      <td>0</td>\n",
       "      <td>0</td>\n",
       "      <td>0</td>\n",
       "      <td>0</td>\n",
       "      <td>0</td>\n",
       "      <td>0</td>\n",
       "      <td>...</td>\n",
       "      <td>0</td>\n",
       "      <td>0</td>\n",
       "      <td>0</td>\n",
       "      <td>0</td>\n",
       "      <td>0</td>\n",
       "      <td>0</td>\n",
       "      <td>0</td>\n",
       "      <td>0</td>\n",
       "      <td>0</td>\n",
       "      <td>0</td>\n",
       "    </tr>\n",
       "    <tr>\n",
       "      <td>1</td>\n",
       "      <td>9</td>\n",
       "      <td>0</td>\n",
       "      <td>0</td>\n",
       "      <td>0</td>\n",
       "      <td>0</td>\n",
       "      <td>0</td>\n",
       "      <td>0</td>\n",
       "      <td>0</td>\n",
       "      <td>0</td>\n",
       "      <td>0</td>\n",
       "      <td>...</td>\n",
       "      <td>0</td>\n",
       "      <td>0</td>\n",
       "      <td>0</td>\n",
       "      <td>0</td>\n",
       "      <td>0</td>\n",
       "      <td>0</td>\n",
       "      <td>0</td>\n",
       "      <td>0</td>\n",
       "      <td>0</td>\n",
       "      <td>0</td>\n",
       "    </tr>\n",
       "    <tr>\n",
       "      <td>2</td>\n",
       "      <td>6</td>\n",
       "      <td>0</td>\n",
       "      <td>0</td>\n",
       "      <td>0</td>\n",
       "      <td>0</td>\n",
       "      <td>0</td>\n",
       "      <td>0</td>\n",
       "      <td>0</td>\n",
       "      <td>5</td>\n",
       "      <td>0</td>\n",
       "      <td>...</td>\n",
       "      <td>0</td>\n",
       "      <td>0</td>\n",
       "      <td>0</td>\n",
       "      <td>30</td>\n",
       "      <td>43</td>\n",
       "      <td>0</td>\n",
       "      <td>0</td>\n",
       "      <td>0</td>\n",
       "      <td>0</td>\n",
       "      <td>0</td>\n",
       "    </tr>\n",
       "    <tr>\n",
       "      <td>3</td>\n",
       "      <td>0</td>\n",
       "      <td>0</td>\n",
       "      <td>0</td>\n",
       "      <td>0</td>\n",
       "      <td>1</td>\n",
       "      <td>2</td>\n",
       "      <td>0</td>\n",
       "      <td>0</td>\n",
       "      <td>0</td>\n",
       "      <td>0</td>\n",
       "      <td>...</td>\n",
       "      <td>3</td>\n",
       "      <td>0</td>\n",
       "      <td>0</td>\n",
       "      <td>0</td>\n",
       "      <td>0</td>\n",
       "      <td>1</td>\n",
       "      <td>0</td>\n",
       "      <td>0</td>\n",
       "      <td>0</td>\n",
       "      <td>0</td>\n",
       "    </tr>\n",
       "    <tr>\n",
       "      <td>4</td>\n",
       "      <td>3</td>\n",
       "      <td>0</td>\n",
       "      <td>0</td>\n",
       "      <td>0</td>\n",
       "      <td>0</td>\n",
       "      <td>0</td>\n",
       "      <td>0</td>\n",
       "      <td>0</td>\n",
       "      <td>0</td>\n",
       "      <td>0</td>\n",
       "      <td>...</td>\n",
       "      <td>0</td>\n",
       "      <td>0</td>\n",
       "      <td>0</td>\n",
       "      <td>0</td>\n",
       "      <td>0</td>\n",
       "      <td>0</td>\n",
       "      <td>0</td>\n",
       "      <td>0</td>\n",
       "      <td>0</td>\n",
       "      <td>0</td>\n",
       "    </tr>\n",
       "  </tbody>\n",
       "</table>\n",
       "<p>5 rows × 785 columns</p>\n",
       "</div>"
      ],
      "text/plain": [
       "   label  pixel1  pixel2  pixel3  pixel4  pixel5  pixel6  pixel7  pixel8  \\\n",
       "0      2       0       0       0       0       0       0       0       0   \n",
       "1      9       0       0       0       0       0       0       0       0   \n",
       "2      6       0       0       0       0       0       0       0       5   \n",
       "3      0       0       0       0       1       2       0       0       0   \n",
       "4      3       0       0       0       0       0       0       0       0   \n",
       "\n",
       "   pixel9  ...  pixel775  pixel776  pixel777  pixel778  pixel779  pixel780  \\\n",
       "0       0  ...         0         0         0         0         0         0   \n",
       "1       0  ...         0         0         0         0         0         0   \n",
       "2       0  ...         0         0         0        30        43         0   \n",
       "3       0  ...         3         0         0         0         0         1   \n",
       "4       0  ...         0         0         0         0         0         0   \n",
       "\n",
       "   pixel781  pixel782  pixel783  pixel784  \n",
       "0         0         0         0         0  \n",
       "1         0         0         0         0  \n",
       "2         0         0         0         0  \n",
       "3         0         0         0         0  \n",
       "4         0         0         0         0  \n",
       "\n",
       "[5 rows x 785 columns]"
      ]
     },
     "execution_count": 33,
     "metadata": {},
     "output_type": "execute_result"
    }
   ],
   "source": [
    "train_df.head()"
   ]
  },
  {
   "cell_type": "code",
   "execution_count": 34,
   "metadata": {},
   "outputs": [
    {
     "data": {
      "text/plain": [
       "(10000, 785)"
      ]
     },
     "execution_count": 34,
     "metadata": {},
     "output_type": "execute_result"
    }
   ],
   "source": [
    "test_df = pd.read_csv('FashionMNIST/test.csv')\n",
    "test_df.shape"
   ]
  },
  {
   "cell_type": "code",
   "execution_count": 35,
   "metadata": {},
   "outputs": [
    {
     "data": {
      "text/html": [
       "<div>\n",
       "<style scoped>\n",
       "    .dataframe tbody tr th:only-of-type {\n",
       "        vertical-align: middle;\n",
       "    }\n",
       "\n",
       "    .dataframe tbody tr th {\n",
       "        vertical-align: top;\n",
       "    }\n",
       "\n",
       "    .dataframe thead th {\n",
       "        text-align: right;\n",
       "    }\n",
       "</style>\n",
       "<table border=\"1\" class=\"dataframe\">\n",
       "  <thead>\n",
       "    <tr style=\"text-align: right;\">\n",
       "      <th></th>\n",
       "      <th>label</th>\n",
       "      <th>pixel1</th>\n",
       "      <th>pixel2</th>\n",
       "      <th>pixel3</th>\n",
       "      <th>pixel4</th>\n",
       "      <th>pixel5</th>\n",
       "      <th>pixel6</th>\n",
       "      <th>pixel7</th>\n",
       "      <th>pixel8</th>\n",
       "      <th>pixel9</th>\n",
       "      <th>...</th>\n",
       "      <th>pixel775</th>\n",
       "      <th>pixel776</th>\n",
       "      <th>pixel777</th>\n",
       "      <th>pixel778</th>\n",
       "      <th>pixel779</th>\n",
       "      <th>pixel780</th>\n",
       "      <th>pixel781</th>\n",
       "      <th>pixel782</th>\n",
       "      <th>pixel783</th>\n",
       "      <th>pixel784</th>\n",
       "    </tr>\n",
       "  </thead>\n",
       "  <tbody>\n",
       "    <tr>\n",
       "      <td>0</td>\n",
       "      <td>0</td>\n",
       "      <td>0</td>\n",
       "      <td>0</td>\n",
       "      <td>0</td>\n",
       "      <td>0</td>\n",
       "      <td>0</td>\n",
       "      <td>0</td>\n",
       "      <td>0</td>\n",
       "      <td>9</td>\n",
       "      <td>8</td>\n",
       "      <td>...</td>\n",
       "      <td>103</td>\n",
       "      <td>87</td>\n",
       "      <td>56</td>\n",
       "      <td>0</td>\n",
       "      <td>0</td>\n",
       "      <td>0</td>\n",
       "      <td>0</td>\n",
       "      <td>0</td>\n",
       "      <td>0</td>\n",
       "      <td>0</td>\n",
       "    </tr>\n",
       "    <tr>\n",
       "      <td>1</td>\n",
       "      <td>1</td>\n",
       "      <td>0</td>\n",
       "      <td>0</td>\n",
       "      <td>0</td>\n",
       "      <td>0</td>\n",
       "      <td>0</td>\n",
       "      <td>0</td>\n",
       "      <td>0</td>\n",
       "      <td>0</td>\n",
       "      <td>0</td>\n",
       "      <td>...</td>\n",
       "      <td>34</td>\n",
       "      <td>0</td>\n",
       "      <td>0</td>\n",
       "      <td>0</td>\n",
       "      <td>0</td>\n",
       "      <td>0</td>\n",
       "      <td>0</td>\n",
       "      <td>0</td>\n",
       "      <td>0</td>\n",
       "      <td>0</td>\n",
       "    </tr>\n",
       "    <tr>\n",
       "      <td>2</td>\n",
       "      <td>2</td>\n",
       "      <td>0</td>\n",
       "      <td>0</td>\n",
       "      <td>0</td>\n",
       "      <td>0</td>\n",
       "      <td>0</td>\n",
       "      <td>0</td>\n",
       "      <td>14</td>\n",
       "      <td>53</td>\n",
       "      <td>99</td>\n",
       "      <td>...</td>\n",
       "      <td>0</td>\n",
       "      <td>0</td>\n",
       "      <td>0</td>\n",
       "      <td>0</td>\n",
       "      <td>63</td>\n",
       "      <td>53</td>\n",
       "      <td>31</td>\n",
       "      <td>0</td>\n",
       "      <td>0</td>\n",
       "      <td>0</td>\n",
       "    </tr>\n",
       "    <tr>\n",
       "      <td>3</td>\n",
       "      <td>2</td>\n",
       "      <td>0</td>\n",
       "      <td>0</td>\n",
       "      <td>0</td>\n",
       "      <td>0</td>\n",
       "      <td>0</td>\n",
       "      <td>0</td>\n",
       "      <td>0</td>\n",
       "      <td>0</td>\n",
       "      <td>0</td>\n",
       "      <td>...</td>\n",
       "      <td>137</td>\n",
       "      <td>126</td>\n",
       "      <td>140</td>\n",
       "      <td>0</td>\n",
       "      <td>133</td>\n",
       "      <td>224</td>\n",
       "      <td>222</td>\n",
       "      <td>56</td>\n",
       "      <td>0</td>\n",
       "      <td>0</td>\n",
       "    </tr>\n",
       "    <tr>\n",
       "      <td>4</td>\n",
       "      <td>3</td>\n",
       "      <td>0</td>\n",
       "      <td>0</td>\n",
       "      <td>0</td>\n",
       "      <td>0</td>\n",
       "      <td>0</td>\n",
       "      <td>0</td>\n",
       "      <td>0</td>\n",
       "      <td>0</td>\n",
       "      <td>0</td>\n",
       "      <td>...</td>\n",
       "      <td>0</td>\n",
       "      <td>0</td>\n",
       "      <td>0</td>\n",
       "      <td>0</td>\n",
       "      <td>0</td>\n",
       "      <td>0</td>\n",
       "      <td>0</td>\n",
       "      <td>0</td>\n",
       "      <td>0</td>\n",
       "      <td>0</td>\n",
       "    </tr>\n",
       "  </tbody>\n",
       "</table>\n",
       "<p>5 rows × 785 columns</p>\n",
       "</div>"
      ],
      "text/plain": [
       "   label  pixel1  pixel2  pixel3  pixel4  pixel5  pixel6  pixel7  pixel8  \\\n",
       "0      0       0       0       0       0       0       0       0       9   \n",
       "1      1       0       0       0       0       0       0       0       0   \n",
       "2      2       0       0       0       0       0       0      14      53   \n",
       "3      2       0       0       0       0       0       0       0       0   \n",
       "4      3       0       0       0       0       0       0       0       0   \n",
       "\n",
       "   pixel9  ...  pixel775  pixel776  pixel777  pixel778  pixel779  pixel780  \\\n",
       "0       8  ...       103        87        56         0         0         0   \n",
       "1       0  ...        34         0         0         0         0         0   \n",
       "2      99  ...         0         0         0         0        63        53   \n",
       "3       0  ...       137       126       140         0       133       224   \n",
       "4       0  ...         0         0         0         0         0         0   \n",
       "\n",
       "   pixel781  pixel782  pixel783  pixel784  \n",
       "0         0         0         0         0  \n",
       "1         0         0         0         0  \n",
       "2        31         0         0         0  \n",
       "3       222        56         0         0  \n",
       "4         0         0         0         0  \n",
       "\n",
       "[5 rows x 785 columns]"
      ]
     },
     "execution_count": 35,
     "metadata": {},
     "output_type": "execute_result"
    }
   ],
   "source": [
    "test_df.head()"
   ]
  },
  {
   "cell_type": "code",
   "execution_count": 36,
   "metadata": {},
   "outputs": [
    {
     "data": {
      "text/plain": [
       "array([2, 9, 6, 0, 3, 4, 5, 8, 7, 1], dtype=int64)"
      ]
     },
     "execution_count": 36,
     "metadata": {},
     "output_type": "execute_result"
    }
   ],
   "source": [
    "train_df.label.unique()"
   ]
  },
  {
   "cell_type": "code",
   "execution_count": 37,
   "metadata": {},
   "outputs": [],
   "source": [
    "X_train = train_df.values[:,1:785]\n",
    "X_test = test_df.values[:,1:785]\n",
    "y_train = train_df.values[:,0]\n",
    "y_test = test_df.values[:,0]"
   ]
  },
  {
   "cell_type": "code",
   "execution_count": 38,
   "metadata": {},
   "outputs": [
    {
     "data": {
      "text/plain": [
       "(60000, 784)"
      ]
     },
     "execution_count": 38,
     "metadata": {},
     "output_type": "execute_result"
    }
   ],
   "source": [
    "X_train.shape"
   ]
  },
  {
   "cell_type": "code",
   "execution_count": 39,
   "metadata": {},
   "outputs": [],
   "source": [
    "X_train = X_train.reshape(X_train.shape[0], 28, 28, 1)\n",
    "X_test = X_test.reshape(X_test.shape[0], 28, 28, 1)"
   ]
  },
  {
   "cell_type": "code",
   "execution_count": 41,
   "metadata": {},
   "outputs": [],
   "source": [
    "X_train = X_train.astype('float32')\n",
    "X_test = X_test.astype('float32')\n",
    "X_train = X_train/255\n",
    "X_test = X_test/255"
   ]
  },
  {
   "cell_type": "code",
   "execution_count": 42,
   "metadata": {},
   "outputs": [],
   "source": [
    "y_train = keras.utils.to_categorical(y_train, 10)\n",
    "y_test = keras.utils.to_categorical(y_test, 10)"
   ]
  },
  {
   "cell_type": "code",
   "execution_count": 46,
   "metadata": {},
   "outputs": [],
   "source": [
    "model = keras.Sequential()\n",
    "model.add(keras.layers.Conv2D(32, kernel_size = (3,3), activation = 'relu', kernel_initializer = 'he_uniform', input_shape=(28,28,1)))\n",
    "model.add(keras.layers.MaxPooling2D(pool_size=(2,2)))\n",
    "model.add(keras.layers.Conv2D(64, kernel_size=(3,3), activation = 'relu'))\n",
    "model.add(keras.layers.MaxPooling2D(pool_size=(2,2)))\n",
    "model.add(keras.layers.Flatten())\n",
    "model.add(keras.layers.Dense(128, activation='relu'))\n",
    "model.add(keras.layers.Dense(10, activation= 'softmax'))"
   ]
  },
  {
   "cell_type": "code",
   "execution_count": 48,
   "metadata": {},
   "outputs": [],
   "source": [
    "model.compile(optimizer = 'adam', loss = keras.losses.categorical_crossentropy, metrics = ['accuracy'])"
   ]
  },
  {
   "cell_type": "code",
   "execution_count": 49,
   "metadata": {},
   "outputs": [
    {
     "name": "stdout",
     "output_type": "stream",
     "text": [
      "Epoch 1/50\n",
      "938/938 [==============================] - 35s 37ms/step - loss: 0.4424 - accuracy: 0.8421 - val_loss: 0.3299 - val_accuracy: 0.8782\n",
      "Epoch 2/50\n",
      "938/938 [==============================] - 34s 36ms/step - loss: 0.3025 - accuracy: 0.8889 - val_loss: 0.2858 - val_accuracy: 0.8976\n",
      "Epoch 3/50\n",
      "938/938 [==============================] - 36s 38ms/step - loss: 0.2561 - accuracy: 0.9050 - val_loss: 0.2608 - val_accuracy: 0.9062\n",
      "Epoch 4/50\n",
      "938/938 [==============================] - 36s 38ms/step - loss: 0.2229 - accuracy: 0.9176 - val_loss: 0.2335 - val_accuracy: 0.9124\n",
      "Epoch 5/50\n",
      "938/938 [==============================] - 36s 38ms/step - loss: 0.1990 - accuracy: 0.9265 - val_loss: 0.2244 - val_accuracy: 0.9178\n",
      "Epoch 6/50\n",
      "938/938 [==============================] - 37s 39ms/step - loss: 0.1767 - accuracy: 0.9348 - val_loss: 0.2297 - val_accuracy: 0.9181\n",
      "Epoch 7/50\n",
      "938/938 [==============================] - 36s 39ms/step - loss: 0.1569 - accuracy: 0.9418 - val_loss: 0.2337 - val_accuracy: 0.9172\n",
      "Epoch 8/50\n",
      "938/938 [==============================] - 35s 37ms/step - loss: 0.1396 - accuracy: 0.9480 - val_loss: 0.2251 - val_accuracy: 0.9211\n",
      "Epoch 9/50\n",
      "938/938 [==============================] - 38s 41ms/step - loss: 0.1220 - accuracy: 0.9546 - val_loss: 0.2322 - val_accuracy: 0.9227\n",
      "Epoch 10/50\n",
      "938/938 [==============================] - 40s 43ms/step - loss: 0.1079 - accuracy: 0.9601 - val_loss: 0.2464 - val_accuracy: 0.9203\n",
      "Epoch 11/50\n",
      "938/938 [==============================] - 38s 40ms/step - loss: 0.0948 - accuracy: 0.9651 - val_loss: 0.2651 - val_accuracy: 0.9181\n",
      "Epoch 12/50\n",
      "938/938 [==============================] - 38s 41ms/step - loss: 0.0837 - accuracy: 0.9697 - val_loss: 0.2518 - val_accuracy: 0.9240\n",
      "Epoch 13/50\n",
      "938/938 [==============================] - 37s 40ms/step - loss: 0.0732 - accuracy: 0.9735 - val_loss: 0.2689 - val_accuracy: 0.9240\n",
      "Epoch 14/50\n",
      "938/938 [==============================] - 32s 35ms/step - loss: 0.0621 - accuracy: 0.9774 - val_loss: 0.2898 - val_accuracy: 0.9220\n",
      "Epoch 15/50\n",
      "938/938 [==============================] - 33s 35ms/step - loss: 0.0559 - accuracy: 0.9791 - val_loss: 0.3172 - val_accuracy: 0.9193\n",
      "Epoch 16/50\n",
      "938/938 [==============================] - 38s 41ms/step - loss: 0.0520 - accuracy: 0.9807 - val_loss: 0.3386 - val_accuracy: 0.9169\n",
      "Epoch 17/50\n",
      "938/938 [==============================] - 43s 46ms/step - loss: 0.0462 - accuracy: 0.9826 - val_loss: 0.3508 - val_accuracy: 0.9172\n",
      "Epoch 18/50\n",
      "938/938 [==============================] - 38s 41ms/step - loss: 0.0395 - accuracy: 0.9861 - val_loss: 0.3499 - val_accuracy: 0.9190\n",
      "Epoch 19/50\n",
      "938/938 [==============================] - 37s 40ms/step - loss: 0.0345 - accuracy: 0.9879 - val_loss: 0.3975 - val_accuracy: 0.9174\n",
      "Epoch 20/50\n",
      "938/938 [==============================] - 37s 40ms/step - loss: 0.0338 - accuracy: 0.9879 - val_loss: 0.3813 - val_accuracy: 0.9189\n",
      "Epoch 21/50\n",
      "938/938 [==============================] - 37s 40ms/step - loss: 0.0311 - accuracy: 0.9886 - val_loss: 0.4262 - val_accuracy: 0.9174\n",
      "Epoch 22/50\n",
      "938/938 [==============================] - 40s 43ms/step - loss: 0.0268 - accuracy: 0.9904 - val_loss: 0.4421 - val_accuracy: 0.9148\n",
      "Epoch 23/50\n",
      "938/938 [==============================] - 39s 41ms/step - loss: 0.0263 - accuracy: 0.9907 - val_loss: 0.4771 - val_accuracy: 0.9107\n",
      "Epoch 24/50\n",
      "938/938 [==============================] - 35s 38ms/step - loss: 0.0236 - accuracy: 0.9917 - val_loss: 0.4531 - val_accuracy: 0.9189\n",
      "Epoch 25/50\n",
      "938/938 [==============================] - 37s 39ms/step - loss: 0.0245 - accuracy: 0.9911 - val_loss: 0.4470 - val_accuracy: 0.9204\n",
      "Epoch 26/50\n",
      "938/938 [==============================] - 42s 44ms/step - loss: 0.0233 - accuracy: 0.9913 - val_loss: 0.4827 - val_accuracy: 0.9190\n",
      "Epoch 27/50\n",
      "938/938 [==============================] - 41s 43ms/step - loss: 0.0198 - accuracy: 0.9929 - val_loss: 0.5209 - val_accuracy: 0.9152\n",
      "Epoch 28/50\n",
      "938/938 [==============================] - 39s 42ms/step - loss: 0.0197 - accuracy: 0.9932 - val_loss: 0.4866 - val_accuracy: 0.9187\n",
      "Epoch 29/50\n",
      "938/938 [==============================] - 40s 43ms/step - loss: 0.0193 - accuracy: 0.9934 - val_loss: 0.5227 - val_accuracy: 0.9205\n",
      "Epoch 30/50\n",
      "938/938 [==============================] - 40s 43ms/step - loss: 0.0177 - accuracy: 0.9941 - val_loss: 0.5118 - val_accuracy: 0.9182\n",
      "Epoch 31/50\n",
      "938/938 [==============================] - 41s 43ms/step - loss: 0.0185 - accuracy: 0.9931 - val_loss: 0.5578 - val_accuracy: 0.9143\n",
      "Epoch 32/50\n",
      "938/938 [==============================] - 39s 41ms/step - loss: 0.0136 - accuracy: 0.9958 - val_loss: 0.5537 - val_accuracy: 0.9155\n",
      "Epoch 33/50\n",
      "938/938 [==============================] - 39s 41ms/step - loss: 0.0210 - accuracy: 0.9923 - val_loss: 0.5461 - val_accuracy: 0.9162\n",
      "Epoch 34/50\n",
      "938/938 [==============================] - 42s 44ms/step - loss: 0.0178 - accuracy: 0.9941 - val_loss: 0.5802 - val_accuracy: 0.9161\n",
      "Epoch 35/50\n",
      "938/938 [==============================] - 43s 45ms/step - loss: 0.0141 - accuracy: 0.9951 - val_loss: 0.5413 - val_accuracy: 0.9186\n",
      "Epoch 36/50\n",
      "938/938 [==============================] - 39s 42ms/step - loss: 0.0137 - accuracy: 0.9952 - val_loss: 0.5751 - val_accuracy: 0.9181\n",
      "Epoch 37/50\n",
      "938/938 [==============================] - 40s 42ms/step - loss: 0.0159 - accuracy: 0.9944 - val_loss: 0.6233 - val_accuracy: 0.9191\n",
      "Epoch 38/50\n",
      "938/938 [==============================] - 41s 43ms/step - loss: 0.0154 - accuracy: 0.9947 - val_loss: 0.6066 - val_accuracy: 0.9161\n",
      "Epoch 39/50\n",
      "938/938 [==============================] - 40s 43ms/step - loss: 0.0168 - accuracy: 0.9942 - val_loss: 0.6258 - val_accuracy: 0.9156\n",
      "Epoch 40/50\n",
      "938/938 [==============================] - 39s 41ms/step - loss: 0.0132 - accuracy: 0.9954 - val_loss: 0.5954 - val_accuracy: 0.9135\n",
      "Epoch 41/50\n",
      "938/938 [==============================] - 40s 43ms/step - loss: 0.0137 - accuracy: 0.9951 - val_loss: 0.6686 - val_accuracy: 0.9152\n",
      "Epoch 42/50\n",
      "938/938 [==============================] - 36s 38ms/step - loss: 0.0144 - accuracy: 0.9949 - val_loss: 0.6378 - val_accuracy: 0.9176\n",
      "Epoch 43/50\n",
      "938/938 [==============================] - 41s 44ms/step - loss: 0.0132 - accuracy: 0.9952 - val_loss: 0.6329 - val_accuracy: 0.9177\n",
      "Epoch 44/50\n",
      "938/938 [==============================] - 38s 41ms/step - loss: 0.0159 - accuracy: 0.9948 - val_loss: 0.6454 - val_accuracy: 0.9174\n",
      "Epoch 45/50\n",
      "938/938 [==============================] - 38s 40ms/step - loss: 0.0131 - accuracy: 0.9957 - val_loss: 0.6563 - val_accuracy: 0.9179\n",
      "Epoch 46/50\n",
      "938/938 [==============================] - 38s 41ms/step - loss: 0.0091 - accuracy: 0.9968 - val_loss: 0.7634 - val_accuracy: 0.9093\n",
      "Epoch 47/50\n",
      "938/938 [==============================] - 35s 37ms/step - loss: 0.0150 - accuracy: 0.9947 - val_loss: 0.6924 - val_accuracy: 0.9202\n",
      "Epoch 48/50\n",
      "938/938 [==============================] - 35s 38ms/step - loss: 0.0135 - accuracy: 0.9955 - val_loss: 0.7167 - val_accuracy: 0.9144\n",
      "Epoch 49/50\n",
      "938/938 [==============================] - 37s 39ms/step - loss: 0.0122 - accuracy: 0.9956 - val_loss: 0.7320 - val_accuracy: 0.9133\n",
      "Epoch 50/50\n",
      "938/938 [==============================] - 36s 39ms/step - loss: 0.0137 - accuracy: 0.9958 - val_loss: 0.7092 - val_accuracy: 0.9154\n"
     ]
    },
    {
     "data": {
      "text/plain": [
       "<tensorflow.python.keras.callbacks.History at 0x1dc0fa56588>"
      ]
     },
     "execution_count": 49,
     "metadata": {},
     "output_type": "execute_result"
    }
   ],
   "source": [
    "model.fit(X_train, y_train, epochs=50, verbose=1, batch_size=64, validation_data=(X_test, y_test))"
   ]
  },
  {
   "cell_type": "code",
   "execution_count": 51,
   "metadata": {},
   "outputs": [
    {
     "name": "stdout",
     "output_type": "stream",
     "text": [
      "313/313 [==============================] - 2s 5ms/step - loss: 0.7092 - accuracy: 0.9154\n"
     ]
    },
    {
     "data": {
      "text/plain": [
       "[0.7091614007949829, 0.9154000282287598]"
      ]
     },
     "execution_count": 51,
     "metadata": {},
     "output_type": "execute_result"
    }
   ],
   "source": [
    "score = model.evaluate(X_test, y_test, verbose=1)\n",
    "score"
   ]
  },
  {
   "cell_type": "code",
   "execution_count": 52,
   "metadata": {},
   "outputs": [
    {
     "name": "stdout",
     "output_type": "stream",
     "text": [
      "Test loss 0.7091614007949829\n",
      "Test accuracy 0.9154000282287598\n"
     ]
    }
   ],
   "source": [
    "print(\"Test loss\", score[0])\n",
    "print(\"Test accuracy\", score[1])"
   ]
  },
  {
   "cell_type": "code",
   "execution_count": null,
   "metadata": {},
   "outputs": [],
   "source": []
  }
 ],
 "metadata": {
  "kernelspec": {
   "display_name": "Python 3",
   "language": "python",
   "name": "python3"
  },
  "language_info": {
   "codemirror_mode": {
    "name": "ipython",
    "version": 3
   },
   "file_extension": ".py",
   "mimetype": "text/x-python",
   "name": "python",
   "nbconvert_exporter": "python",
   "pygments_lexer": "ipython3",
   "version": "3.7.4"
  }
 },
 "nbformat": 4,
 "nbformat_minor": 2
}
